{
 "cells": [
  {
   "cell_type": "markdown",
   "metadata": {},
   "source": [
    "# Biodiversity In National Parks\n",
    "\n",
    "To start this project it's important to analyze the project files given.\n",
    "Before loadind them into the work space first it is necessary to open the original files.\n",
    "\n",
    "On the species_info.csv file there are 4 columns:\n",
    "    + category\n",
    "    + scientific_name\n",
    "    + common_names\n",
    "    + conservation_status\n",
    "    \n",
    "The names of the columns do not need to be changed because they are easily accessible, but on the last column there are missing values which will have to be addressed later.\n",
    "In total the file contains information on 5824 species.\n",
    "\n",
    "The observations.csv file contains 3 columns:\n",
    "    + scientific_name\n",
    "    + park_name\n",
    "    + observations\n",
    "    \n",
    "This file also as column names that are easily accessible, which means that they don't have to be changed. And in the first look all the columns appear to have all of the values.\n",
    "In total the file contains observations on 23296 species of the national parks."
   ]
  },
  {
   "cell_type": "markdown",
   "metadata": {},
   "source": [
    "### Load the libraries\n",
    "\n",
    "First let's load the necessary libraries."
   ]
  },
  {
   "cell_type": "code",
   "execution_count": 1,
   "metadata": {},
   "outputs": [],
   "source": [
    "#load the libraries\n",
    "import pandas as pd\n",
    "import numpy as np\n",
    "import seaborn as sns\n",
    "import scipy as sp\n",
    "from matplotlib import pyplot as plt"
   ]
  },
  {
   "cell_type": "markdown",
   "metadata": {},
   "source": [
    "### Load and analyze the files"
   ]
  },
  {
   "cell_type": "code",
   "execution_count": 2,
   "metadata": {},
   "outputs": [
    {
     "name": "stdout",
     "output_type": "stream",
     "text": [
      "  category                scientific_name  \\\n",
      "0   Mammal  Clethrionomys gapperi gapperi   \n",
      "1   Mammal                      Bos bison   \n",
      "2   Mammal                     Bos taurus   \n",
      "3   Mammal                     Ovis aries   \n",
      "4   Mammal                 Cervus elaphus   \n",
      "\n",
      "                                        common_names conservation_status  \n",
      "0                           Gapper's Red-Backed Vole                 NaN  \n",
      "1                              American Bison, Bison                 NaN  \n",
      "2  Aurochs, Aurochs, Domestic Cattle (Feral), Dom...                 NaN  \n",
      "3  Domestic Sheep, Mouflon, Red Sheep, Sheep (Feral)                 NaN  \n",
      "4                                      Wapiti Or Elk                 NaN  \n"
     ]
    }
   ],
   "source": [
    "#species_info.csv\n",
    "spi = pd.read_csv(\"species_info.csv\")\n",
    "print(spi.head())"
   ]
  },
  {
   "cell_type": "code",
   "execution_count": 3,
   "metadata": {},
   "outputs": [
    {
     "name": "stdout",
     "output_type": "stream",
     "text": [
      "            scientific_name                            park_name  observations\n",
      "0        Vicia benghalensis  Great Smoky Mountains National Park            68\n",
      "1            Neovison vison  Great Smoky Mountains National Park            77\n",
      "2         Prunus subcordata               Yosemite National Park           138\n",
      "3      Abutilon theophrasti                  Bryce National Park            84\n",
      "4  Githopsis specularioides  Great Smoky Mountains National Park            85\n"
     ]
    }
   ],
   "source": [
    "#observations.csv\n",
    "obs = pd.read_csv(\"observations.csv\")\n",
    "print(obs.head())"
   ]
  },
  {
   "cell_type": "markdown",
   "metadata": {},
   "source": [
    "## Explore and explain the data\n",
    "\n",
    "Next we will draw some conclusions of the data on both files"
   ]
  },
  {
   "cell_type": "markdown",
   "metadata": {},
   "source": [
    "### Conservation status\n",
    "\n",
    "First let's see the distribution of the status of the species.\n",
    "As referred previously the conservation_status column as missing values, this will have to be addressed first. To address this issue we will first see what are the status attributed to the species."
   ]
  },
  {
   "cell_type": "markdown",
   "metadata": {},
   "source": [
    "#### Status attibuted"
   ]
  },
  {
   "cell_type": "code",
   "execution_count": 4,
   "metadata": {},
   "outputs": [
    {
     "name": "stdout",
     "output_type": "stream",
     "text": [
      "[nan 'Species of Concern' 'Endangered' 'Threatened' 'In Recovery']\n"
     ]
    }
   ],
   "source": [
    "print(spi.conservation_status.unique())"
   ]
  },
  {
   "cell_type": "markdown",
   "metadata": {},
   "source": [
    "###### There are 4 status attibuted to the species, and none of them are \"Non Dangered\", so we will attribute this status to the species with no status attributed\n",
    "\n",
    "After filling the missing values a histogram to see the distribution of the conservation status."
   ]
  },
  {
   "cell_type": "code",
   "execution_count": 6,
   "metadata": {},
   "outputs": [
    {
     "data": {
      "text/plain": [
       "<matplotlib.legend.Legend at 0x28e586e988>"
      ]
     },
     "execution_count": 6,
     "metadata": {},
     "output_type": "execute_result"
    },
    {
     "data": {
      "image/png": "[encoded data removed]",
      "text/plain": [
       "<Figure size 432x288 with 1 Axes>"
      ]
     },
     "metadata": {
      "needs_background": "light"
     },
     "output_type": "display_data"
    }
   ],
   "source": [
    "spi = spi.fillna(value = {\"conservation_status\": \"Non Dangered\"})\n",
    "#print(spi.head())\n",
    "\n",
    "#create an histogram\n",
    "#status_list = spi.conservation_status.unique()\n",
    "#for status in status_list:\n",
    "curr_sta = spi[spi.conservation_status == \"Endangered\"]\n",
    "plt.hist(curr_sta, alpha = 0.5, label = \"Endangered\")\n",
    "plt.legend()"
   ]
  }
 ],
 "metadata": {
  "kernelspec": {
   "display_name": "Python 3",
   "language": "python",
   "name": "python3"
  },
  "language_info": {
   "codemirror_mode": {
    "name": "ipython",
    "version": 3
   },
   "file_extension": ".py",
   "mimetype": "text/x-python",
   "name": "python",
   "nbconvert_exporter": "python",
   "pygments_lexer": "ipython3",
   "version": "3.7.6"
  }
 },
 "nbformat": 4,
 "nbformat_minor": 4
}
