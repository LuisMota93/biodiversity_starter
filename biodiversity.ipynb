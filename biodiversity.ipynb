{
 "cells": [
  {
   "cell_type": "markdown",
   "metadata": {},
   "source": [
    "# Biodiversity In National Parks\n",
    "\n",
    "To start this project it's important to analyze the project files given.\n",
    "Before loadind them into the work space first it is necessary to open the original files.\n",
    "\n",
    "On the species_info.csv file there are 4 columns:\n",
    "    + category\n",
    "    + scientific_name\n",
    "    + common_names\n",
    "    + conservation_status\n",
    "    \n",
    "The names of the columns do not need to be changed because they are easily accessible, but on the last column there are missing values which will have to be addressed later.\n",
    "In total the file contains information on 5824 species.\n",
    "\n",
    "The observations.csv file contains 3 columns:\n",
    "    + scientific_name\n",
    "    + park_name\n",
    "    + observations\n",
    "    \n",
    "This file also as column names that are easily accessible, which means that they don't have to be changed. And in the first look all the columns appear to have all of the values.\n",
    "In total the file contains observations on 23296 species of the national parks."
   ]
  },
  {
   "cell_type": "markdown",
   "metadata": {},
   "source": [
    "### Load the libraries\n",
    "\n",
    "First let's load the necessary libraries."
   ]
  },
  {
   "cell_type": "code",
   "execution_count": 1,
   "metadata": {},
   "outputs": [],
   "source": [
    "#load the libraries\n",
    "import pandas as pd\n",
    "import numpy as np\n",
    "import seaborn as sns\n",
    "import scipy as sp\n",
    "from matplotlib import pyplot as plt"
   ]
  },
  {
   "cell_type": "markdown",
   "metadata": {},
   "source": [
    "### Load and analyze the files"
   ]
  },
  {
   "cell_type": "code",
   "execution_count": 2,
   "metadata": {},
   "outputs": [
    {
     "name": "stdout",
     "output_type": "stream",
     "text": [
      "  category                scientific_name  \\\n",
      "0   Mammal  Clethrionomys gapperi gapperi   \n",
      "1   Mammal                      Bos bison   \n",
      "2   Mammal                     Bos taurus   \n",
      "3   Mammal                     Ovis aries   \n",
      "4   Mammal                 Cervus elaphus   \n",
      "\n",
      "                                        common_names conservation_status  \n",
      "0                           Gapper's Red-Backed Vole                 NaN  \n",
      "1                              American Bison, Bison                 NaN  \n",
      "2  Aurochs, Aurochs, Domestic Cattle (Feral), Dom...                 NaN  \n",
      "3  Domestic Sheep, Mouflon, Red Sheep, Sheep (Feral)                 NaN  \n",
      "4                                      Wapiti Or Elk                 NaN  \n"
     ]
    }
   ],
   "source": [
    "#species_info.csv\n",
    "spi = pd.read_csv(\"species_info.csv\")\n",
    "print(spi.head())"
   ]
  },
  {
   "cell_type": "code",
   "execution_count": 3,
   "metadata": {},
   "outputs": [
    {
     "name": "stdout",
     "output_type": "stream",
     "text": [
      "            scientific_name                            park_name  observations\n",
      "0        Vicia benghalensis  Great Smoky Mountains National Park            68\n",
      "1            Neovison vison  Great Smoky Mountains National Park            77\n",
      "2         Prunus subcordata               Yosemite National Park           138\n",
      "3      Abutilon theophrasti                  Bryce National Park            84\n",
      "4  Githopsis specularioides  Great Smoky Mountains National Park            85\n"
     ]
    }
   ],
   "source": [
    "#observations.csv\n",
    "obs = pd.read_csv(\"observations.csv\")\n",
    "print(obs.head())"
   ]
  },
  {
   "cell_type": "markdown",
   "metadata": {},
   "source": [
    "## Explore and explain the data\n",
    "\n",
    "Next we will draw some conclusions of the data on both files"
   ]
  },
  {
   "cell_type": "markdown",
   "metadata": {},
   "source": [
    "### Conservation status\n",
    "\n",
    "First let's see the distribution of the status of the species.\n",
    "As referred previously the conservation_status column as missing values, this will have to be addressed first. To address this issue we will first see what are the status attributed to the species."
   ]
  },
  {
   "cell_type": "markdown",
   "metadata": {},
   "source": [
    "#### Status attibuted"
   ]
  },
  {
   "cell_type": "code",
   "execution_count": 4,
   "metadata": {},
   "outputs": [
    {
     "name": "stdout",
     "output_type": "stream",
     "text": [
      "[nan 'Species of Concern' 'Endangered' 'Threatened' 'In Recovery']\n"
     ]
    }
   ],
   "source": [
    "print(spi.conservation_status.unique())"
   ]
  },
  {
   "cell_type": "markdown",
   "metadata": {},
   "source": [
    "###### There are 4 status attibuted to the species, and none of them are \"Non Dangered\", so we will attribute this status to the species with no status attributed\n",
    "\n",
    "After filling the missing values a histogram to see the distribution of the conservation status."
   ]
  },
  {
   "cell_type": "code",
   "execution_count": 5,
   "metadata": {},
   "outputs": [
    {
     "data": {
      "text/plain": [
       "Text(0.5, 1.0, 'Distribution of Conservation Status')"
      ]
     },
     "execution_count": 5,
     "metadata": {},
     "output_type": "execute_result"
    },
    {
     "data": {
      "image/png": "[encoded data removed]",
      "text/plain": [
       "<Figure size 432x288 with 1 Axes>"
      ]
     },
     "metadata": {
      "needs_background": "light"
     },
     "output_type": "display_data"
    }
   ],
   "source": [
    "spi = spi.fillna(value = {\"conservation_status\": \"Non Dangered\"})\n",
    "#print(spi.head())\n",
    "cons_sta = spi.conservation_status.unique()\n",
    "catg = spi.category.unique()\n",
    "\n",
    "for i in range(len(catg)):\n",
    "    cont = []\n",
    "    for j in range(len(cons_sta)):\n",
    "        cont.append(len(spi[(spi.conservation_status == cons_sta[j]) & (spi.category == catg[i])]))\n",
    "    n = i #dataset\n",
    "    t = len(catg) #number of datasets\n",
    "    d = len(cons_sta) # number of sets of bars\n",
    "    w = 0.8 #width of the bars\n",
    "    x_val = [t*element + w*n for element in range(d)]\n",
    "    plt.bar(x_val, cont, label = catg[i])\n",
    "\n",
    "plt.legend()\n",
    "middle_x = [(len(catg) / 2) * (elm + 1) for elm in range(len(cons_sta))]\n",
    "plt.xticks(middle_x, cons_sta, rotation = 60)\n",
    "plt.axis([-0.4, 20, 0, 4500])\n",
    "plt.title(\"Distribution of Conservation Status\")"
   ]
  },
  {
   "cell_type": "markdown",
   "metadata": {},
   "source": [
    "######  As seen in the graph the number of species in endangered state is higher for vascular plants.\n",
    "That category also presents the highest number of species in the most Non Dangered category. That means that the conservation status is not dependant on the category but on the species.\n",
    "\n",
    "To see how the species are affected let's focus on the distribution of the Endangered species."
   ]
  },
  {
   "cell_type": "markdown",
   "metadata": {},
   "source": [
    "## Count\n",
    "\n",
    "In order to explore the observations file we can divide it into 3 steps:\n",
    "    + how many living beings were spotted all over the parks\n",
    "    + the parks with the most species\n",
    "    + the species observed the most in each park"
   ]
  },
  {
   "cell_type": "markdown",
   "metadata": {},
   "source": [
    "### Total of living beings spotted all over the parks"
   ]
  },
  {
   "cell_type": "code",
   "execution_count": 6,
   "metadata": {},
   "outputs": [
    {
     "name": "stdout",
     "output_type": "stream",
     "text": [
      "In total were observed 3314739 living beings.\n"
     ]
    }
   ],
   "source": [
    "#count the sum\n",
    "total_an = obs.observations.sum()\n",
    "print(\"In total were observed {0} living beings.\".format(total_an))"
   ]
  },
  {
   "cell_type": "markdown",
   "metadata": {},
   "source": [
    "### The parks with the most species\n",
    "\n",
    "Firstly let's see how many parks there are in the file.\n",
    "Then, using the seaborn librarie let's create a graph with the distribution of living beings."
   ]
  },
  {
   "cell_type": "code",
   "execution_count": 7,
   "metadata": {},
   "outputs": [
    {
     "name": "stdout",
     "output_type": "stream",
     "text": [
      "There are a total of 4 parks.\n"
     ]
    },
    {
     "data": {
      "image/png": "[encoded data removed]",
      "text/plain": [
       "<Figure size 432x288 with 1 Axes>"
      ]
     },
     "metadata": {
      "needs_background": "light"
     },
     "output_type": "display_data"
    }
   ],
   "source": [
    "sns.set_palette(\"colorblind\")\n",
    "sns.barplot(data = obs, x = \"park_name\", y = \"observations\")\n",
    "plt.xticks(rotation = 90)\n",
    "plt.title(\"Observations In Each Park\")\n",
    "\n",
    "print(\"There are a total of {0} parks.\".format(obs.park_name.nunique()))"
   ]
  },
  {
   "cell_type": "markdown",
   "metadata": {},
   "source": [
    "###### The park with the higher average of spotted living beings by species is the Yellowstone National Park, and the one with the least is the Great Smoky Mountains National Park."
   ]
  },
  {
   "cell_type": "markdown",
   "metadata": {},
   "source": [
    "### The species observed the most in each park\n",
    "\n",
    "Using pandas and a loop we can find out the species most spotted for each park."
   ]
  },
  {
   "cell_type": "code",
   "execution_count": 8,
   "metadata": {},
   "outputs": [
    {
     "name": "stdout",
     "output_type": "stream",
     "text": [
      "The most observed species in Great Smoky Mountains National Park is 8840    Sonchus asper ssp. asper\n",
      "Name: scientific_name, dtype: object.\n",
      "The most observed species in Yosemite National Park is 6682    Ivesia shockleyi var. shockleyi\n",
      "Name: scientific_name, dtype: object.\n",
      "The most observed species in Bryce National Park is 13138    Valerianella radiata\n",
      "Name: scientific_name, dtype: object.\n",
      "The most observed species in Yellowstone National Park is 11281    Lycopodium tristachyum\n",
      "Name: scientific_name, dtype: object.\n"
     ]
    }
   ],
   "source": [
    "#create a dataframe for each park\n",
    "parks = obs.park_name.unique()\n",
    "\n",
    "for park in parks:\n",
    "    park_name = obs[obs.park_name == park]\n",
    "    park_max = park_name[park_name.observations == park_name.observations.max()]\n",
    "    specie = park_max.scientific_name.str.strip('')\n",
    "    print(\"The most observed species in {0} is {1}.\".format(park, specie))"
   ]
  }
 ],
 "metadata": {
  "kernelspec": {
   "display_name": "Python 3",
   "language": "python",
   "name": "python3"
  },
  "language_info": {
   "codemirror_mode": {
    "name": "ipython",
    "version": 3
   },
   "file_extension": ".py",
   "mimetype": "text/x-python",
   "name": "python",
   "nbconvert_exporter": "python",
   "pygments_lexer": "ipython3",
   "version": "3.7.6"
  }
 },
 "nbformat": 4,
 "nbformat_minor": 4
}
